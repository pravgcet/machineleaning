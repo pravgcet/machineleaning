{
 "cells": [
  {
   "cell_type": "code",
   "execution_count": 1,
   "id": "f5651aa6",
   "metadata": {},
   "outputs": [],
   "source": [
    "#Concept taken from https://www.youtube.com/watch?v=HXDD7-EnGBY\n",
    "\n",
    "import cv2"
   ]
  },
  {
   "cell_type": "code",
   "execution_count": 2,
   "id": "41b40fcd",
   "metadata": {},
   "outputs": [],
   "source": [
    "classnames = []\n",
    "\n",
    "with open(\"coco.labels\",\"rt\") as fl:\n",
    "    classnames = fl.read().rstrip(\"\\n\").split(\"\\n\");\n",
    "\n",
    "configPath = \"ssd_coco.pbtxt\"\n",
    "weightFile = \"frozen_inference_graph.pb\"\n",
    "\n",
    "net = cv2.dnn_DetectionModel(weightFile, configPath)\n",
    "net.setInputSize(320,320)\n",
    "net.setInputScale(1.0/127.5)\n",
    "net.setInputMean((127.5, 127.5, 127.5))\n",
    "net.setInputSwapRB(True)\n",
    "\n",
    "cap = cv2.VideoCapture(0)\n",
    "cap.set(3,640)\n",
    "cap.set(4,480)\n",
    "\n",
    "THRESHOLD = 0.7 #Change it to choose highly confident objects\n",
    "\n",
    "while True:\n",
    "    \n",
    "    isAvail, img = cap.read() #isAvail is status or frame read\n",
    "    if not isAvail:\n",
    "        continue\n",
    "    \n",
    "    classIds, confs, bbox = net.detect(img, confThreshold = THRESHOLD)\n",
    "\n",
    "    if len(classIds) == 0 or len(confs) == 0:\n",
    "        continue\n",
    "        \n",
    "    for classId, confidence, boxx in zip(classIds.flatten(), confs.flatten(), bbox):\n",
    "        cv2.rectangle(img, boxx, color = (255,0,0), thickness = 4)\n",
    "        cv2.putText(img, str(classnames[classId-1])+\" \"+str(round(confidence*100,1)), (boxx[0], boxx[1]-10), cv2.FONT_HERSHEY_SIMPLEX,1, (255,0,0),2)\n",
    "        cv2.imshow(\"Objects\", img)\n",
    "    if cv2.waitKey(1) & 0XFF == 27: #Press ESC\n",
    "        break\n",
    "\n",
    "cap.release()\n",
    "cv2.destroyAllWindows()"
   ]
  }
 ],
 "metadata": {
  "kernelspec": {
   "display_name": "Python 3",
   "language": "python",
   "name": "python3"
  },
  "language_info": {
   "codemirror_mode": {
    "name": "ipython",
    "version": 3
   },
   "file_extension": ".py",
   "mimetype": "text/x-python",
   "name": "python",
   "nbconvert_exporter": "python",
   "pygments_lexer": "ipython3",
   "version": "3.8.2"
  }
 },
 "nbformat": 4,
 "nbformat_minor": 5
}
